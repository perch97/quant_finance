{
 "cells": [
  {
   "cell_type": "code",
   "execution_count": 75,
   "id": "bac6fec9-487b-431f-bd78-a8150e9ba09f",
   "metadata": {},
   "outputs": [],
   "source": [
    "import numpy as np\n",
    "import scipy.stats as st\n",
    "from scipy.stats import norm"
   ]
  },
  {
   "cell_type": "code",
   "execution_count": 77,
   "id": "8c86a5bd-5683-4ffd-9e73-d34cd50137c0",
   "metadata": {},
   "outputs": [],
   "source": [
    "S0 = 100 \n",
    "K = 100\n",
    "T = 1  \n",
    "r = 0.05\n",
    "sigma = 0.2 \n",
    "N = 100000"
   ]
  },
  {
   "cell_type": "code",
   "execution_count": 79,
   "id": "71973dc0-27c3-444b-b6e1-588dcf3a6035",
   "metadata": {},
   "outputs": [],
   "source": [
    "def monte_carlo_option_pricing(S0, K, T, r, sigma, N, option_type=\"call\",confidence_level=0.95):\n",
    "    stock_prices = []\n",
    "    np.random.seed(42) \n",
    "    Z = np.random.normal(0, 1, N)\n",
    "    ST = S0 * np.exp((r - 0.5 * sigma**2) * T + sigma * np.sqrt(T) * Z)\n",
    "    stock_prices.append(ST)\n",
    "    if option_type == \"call\":\n",
    "        payoffs = np.maximum(ST - K, 0)\n",
    "    elif option_type == \"put\":\n",
    "        payoffs = np.maximum(K - ST, 0)\n",
    "    else:\n",
    "        raise ValueError(\"Invalid option type. Choose 'call' or 'put'.\")\n",
    "    \n",
    "    discounted_payoffs = np.exp(-r * T) * payoffs\n",
    "    option_price = np.mean(discounted_payoffs)    \n",
    "    std_error = np.std(discounted_payoffs, ddof=1) / np.sqrt(N)\n",
    "    ci_half_width = st.norm.ppf((1 + confidence_level) / 2) * std_error\n",
    "    confidence_interval = (option_price - ci_half_width, option_price + ci_half_width)\n",
    "        \n",
    "    return option_price, confidence_interval\n",
    "\n",
    "def black_scholes_option_price(S0, K, T, r, sigma, option_type=\"call\"):\n",
    "    d1 = (np.log(S0 / K) + (r + 0.5 * sigma**2) * T) / (sigma * np.sqrt(T))\n",
    "    d2 = d1 - sigma * np.sqrt(T)\n",
    "    \n",
    "    if option_type == \"call\":\n",
    "        price = S0 * norm.cdf(d1) - K * np.exp(-r * T) * norm.cdf(d2)\n",
    "    elif option_type == \"put\":\n",
    "        price = K * np.exp(-r * T) * norm.cdf(-d2) - S0 * norm.cdf(-d1)\n",
    "    else:\n",
    "        raise ValueError(\"Invalid option type. Choose 'call' or 'put'.\")\n",
    "    \n",
    "    return price\n",
    "\n",
    "def binomial_tree_option_pricing(S0, K, T, r, sigma, N, option_type=\"call\"):\n",
    "    dt = T / N\n",
    "    u = np.exp(sigma * np.sqrt(dt))\n",
    "    d = 1 / u\n",
    "    p = (np.exp(r * dt) - d) / (u - d)\n",
    "    \n",
    "    price_tree = np.zeros((N + 1, N + 1))\n",
    "    for j in range(N + 1):\n",
    "        price_tree[j, N] = max(0, (S0 * (u ** j) * (d ** (N - j)) - K) if option_type == \"call\" else (K - S0 * (u ** j) * (d ** (N - j))))\n",
    "    \n",
    "    for i in range(N - 1, -1, -1):\n",
    "        for j in range(i + 1):\n",
    "            price_tree[j, i] = np.exp(-r * dt) * (p * price_tree[j + 1, i + 1] + (1 - p) * price_tree[j, i + 1])\n",
    "    \n",
    "    return price_tree[0, 0]"
   ]
  },
  {
   "cell_type": "code",
   "execution_count": 85,
   "id": "48449008-b50a-400d-ac30-1dcf029087cc",
   "metadata": {},
   "outputs": [],
   "source": [
    "call_price, call_ci = monte_carlo_option_pricing(S0, K, T, r, sigma, N, \"call\")\n",
    "put_price, put_ci = monte_carlo_option_pricing(S0, K, T, r, sigma, N, \"put\")\n",
    "call_price_bs = black_scholes_option_price(S0, K, T, r, sigma, \"call\")\n",
    "put_price_bs = black_scholes_option_price(S0, K, T, r, sigma, \"put\")\n",
    "call_price_bt = binomial_tree_option_pricing(S0, K, T, r, sigma, 100, \"call\")\n",
    "put_price_bt = binomial_tree_option_pricing(S0, K, T, r, sigma, 100, \"put\")"
   ]
  },
  {
   "cell_type": "code",
   "execution_count": 89,
   "id": "bae4c97f-0493-41e3-b220-1f22cb9d2b7e",
   "metadata": {},
   "outputs": [
    {
     "name": "stdout",
     "output_type": "stream",
     "text": [
      "Black-Scholes Call Option Price: 10.4506\n",
      "Black-Scholes Put Option Price: 5.5735\n",
      "Monte-Carlo Call option price: 10.4739, 95% CI: (10.3826, 10.5652)\n",
      "Monte-Carlo Put option price: 5.5742, 95% CI: (5.5205, 5.6279)\n",
      "Binomial Tree Call Option Price: 10.4306\n",
      "Binomial Tree Put Option Price: 5.5536\n"
     ]
    }
   ],
   "source": [
    "print(f\"Black-Scholes Call Option Price: {call_price_bs:.4f}\")\n",
    "print(f\"Black-Scholes Put Option Price: {put_price_bs:.4f}\")\n",
    "print(f\"Monte-Carlo Call option price: {call_price:.4f}, 95% CI: ({call_ci[0]:.4f}, {call_ci[1]:.4f})\")\n",
    "print(f\"Monte-Carlo Put option price: {put_price:.4f}, 95% CI: ({put_ci[0]:.4f}, {put_ci[1]:.4f})\")\n",
    "print(f\"Binomial Tree Call Option Price: {call_price_bt:.4f}\")\n",
    "print(f\"Binomial Tree Put Option Price: {put_price_bt:.4f}\")\n"
   ]
  },
  {
   "cell_type": "code",
   "execution_count": null,
   "id": "02d105e6-889b-4aa5-9f4d-d07f79c1b0ce",
   "metadata": {},
   "outputs": [],
   "source": []
  }
 ],
 "metadata": {
  "kernelspec": {
   "display_name": "Python [conda env:base] *",
   "language": "python",
   "name": "conda-base-py"
  },
  "language_info": {
   "codemirror_mode": {
    "name": "ipython",
    "version": 3
   },
   "file_extension": ".py",
   "mimetype": "text/x-python",
   "name": "python",
   "nbconvert_exporter": "python",
   "pygments_lexer": "ipython3",
   "version": "3.12.7"
  }
 },
 "nbformat": 4,
 "nbformat_minor": 5
}
